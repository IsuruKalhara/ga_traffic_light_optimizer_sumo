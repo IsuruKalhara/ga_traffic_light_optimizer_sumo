{
 "cells": [
  {
   "cell_type": "code",
   "execution_count": 79,
   "metadata": {},
   "outputs": [],
   "source": [
    "from sumolib import checkBinary\n",
    "import xml.etree.ElementTree as ET\n",
    "import traci\n",
    "import sys\n",
    "import random\n",
    "import numpy as np\n"
   ]
  },
  {
   "cell_type": "code",
   "execution_count": 80,
   "metadata": {},
   "outputs": [],
   "source": [
    "POPULAION_SIZE = 20\n",
    "INTERMEDIATE_SIZE = 40\n",
    "MUTATION_PERCENTAGE = 10\n",
    "NO_OF_GENERATIONS = 100"
   ]
  },
  {
   "cell_type": "code",
   "execution_count": 81,
   "metadata": {},
   "outputs": [],
   "source": [
    "waiting_times_data = []\n",
    "accidents_data = []"
   ]
  },
  {
   "cell_type": "code",
   "execution_count": 82,
   "metadata": {},
   "outputs": [],
   "source": [
    "class TrafficLightPattern:\n",
    "    \n",
    "    def __init__(self, genotype_size):\n",
    "        self.size = genotype_size\n",
    "        self.genotype = np.random.randint(2, size = genotype_size)\n",
    "        self.phenotype = 0\n",
    "        self.waiting_time = float('inf')\n",
    "      \n",
    "    def set_genotype(self, genotype):\n",
    "        if len(genotype) == self.size:\n",
    "            self.genotype = genotype\n",
    "        else:\n",
    "            print(\"Size error for the new genotype\")\n",
    "    \n",
    "    def get_genotype(self):\n",
    "        return self.genotype\n",
    "    \n",
    "    def set_phenotype(self, phenotype):\n",
    "        self.phenotype = phenotype\n",
    "    \n",
    "    def get_phenotype(self):\n",
    "        return self.phenotype\n",
    "    \n",
    "    def set_waiting_time(self, waiting_time):\n",
    "        self.waiting_time = waiting_time\n",
    "    \n",
    "    def get_waiting_time(self):\n",
    "        return self.waiting_time\n",
    "    "
   ]
  },
  {
   "cell_type": "code",
   "execution_count": 83,
   "metadata": {},
   "outputs": [],
   "source": [
    "def phenotype(genotype):\n",
    "    '''return phenotype when gives a genotype'''\n",
    "    phenotype = []\n",
    "    m = ['G', 'g', 'y', 'r']\n",
    "    \n",
    "    for j in range(4):\n",
    "        phenotype.append(int(''.join(map(str,genotype[:7])),2)) \n",
    "\n",
    "        state = genotype[7:47]\n",
    "        s = \"\"\n",
    "        for i in range(0, 20):\n",
    "            s += m[int(str(state[2*i])+str(state[2*i+1]),2)]\n",
    "        phenotype.append(s)\n",
    "\n",
    "        genotype = genotype[47:]\n",
    "    \n",
    "    return phenotype"
   ]
  },
  {
   "cell_type": "code",
   "execution_count": 84,
   "metadata": {},
   "outputs": [],
   "source": [
    "def simulate(program):\n",
    "    '''return the waiting time after running the simulation'''\n",
    "    \n",
    "    traci.start([checkBinary(program), \"-c\", \"sumo/light.sumocfg\", \"--tripinfo-output\", \"sumo/tripinfo.xml\"])\n",
    "    \n",
    "    accidents = 0\n",
    "    while traci.simulation.getMinExpectedNumber() > 0:\n",
    "        traci.simulationStep()\n",
    "        accidents += traci.simulation.getCollidingVehiclesNumber()\n",
    "        \n",
    "        \n",
    "    traci.close()\n",
    "    sys.stdout.flush()\n",
    "    \n",
    "    xmldoc = ET.parse('sumo/tripinfo.xml')\n",
    "\n",
    "    tripinfos = xmldoc.findall('tripinfo')\n",
    "\n",
    "    waiting_time = 0\n",
    "    for tripinfo in tripinfos:\n",
    "        waiting_time += float(tripinfo.get('waitingTime'))\n",
    "        \n",
    "    return waiting_time, accidents"
   ]
  },
  {
   "cell_type": "code",
   "execution_count": 85,
   "metadata": {},
   "outputs": [],
   "source": [
    "def evaluate_pattern(phenotype):\n",
    "    '''run the simulation after setting the new phenotype then return the waiting_time'''\n",
    "    \n",
    "    network = ET.parse('sumo/light.net.xml')\n",
    "    signal = network.find('tlLogic') \n",
    "    \n",
    "    i = 0\n",
    "    for phase in signal.iter('phase'):\n",
    "        \n",
    "        duration = str(phenotype[2*i])\n",
    "        if duration == \"0\":\n",
    "             return float('inf'),0\n",
    "        phase.set(\"duration\", duration)\n",
    "            \n",
    "        state = phenotype[2*i+1]\n",
    "        phase.set(\"state\", state)\n",
    "        i += 1\n",
    "        \n",
    "    network.write(\"sumo/light.net.xml\")\n",
    "    \n",
    "    waiting_time,accidents = simulate('sumo')\n",
    "\n",
    "    return waiting_time, accidents"
   ]
  },
  {
   "cell_type": "code",
   "execution_count": 86,
   "metadata": {},
   "outputs": [],
   "source": [
    "def evaluate_population(population):\n",
    "    times = []\n",
    "    accident_list = []\n",
    "    \n",
    "    for pattern in population:\n",
    "        waiting_time, accidents = evaluate_pattern(pattern.get_phenotype())\n",
    "        pattern.set_waiting_time(waiting_time)\n",
    "        times.append(waiting_time)\n",
    "        accident_list.append(accidents)\n",
    "        \n",
    "    waiting_times_data.append(times)\n",
    "    accidents_data.append(accident_list)"
   ]
  },
  {
   "cell_type": "code",
   "execution_count": 87,
   "metadata": {},
   "outputs": [],
   "source": [
    "def already_in(new_genotype, population):\n",
    "    return next((True for elem in population if np.array_equal(elem.get_genotype(), new_genotype.get_genotype())), False)"
   ]
  },
  {
   "cell_type": "code",
   "execution_count": 88,
   "metadata": {},
   "outputs": [],
   "source": [
    "def pattern_verifier(new_genotype, population):\n",
    "    if already_in(new_genotype, population):\n",
    "        return False\n",
    "    new_genotype.set_phenotype(phenotype(new_genotype.get_genotype()))\n",
    "    return True\n",
    "#     states = new_genotype.get_phenotype()[1:8:2]\n",
    "#     for i in range(20):\n",
    "#         for j in range(4):\n",
    "#             if Counter(('g','r')) == Counter((states[j][i].lower(),states[j-1][i].lower())):\n",
    "#                 return False\n",
    "    \n",
    "    \n",
    "    return True"
   ]
  },
  {
   "cell_type": "code",
   "execution_count": 89,
   "metadata": {},
   "outputs": [],
   "source": [
    "def create_new_population(population_size, genotype_size):\n",
    "    \n",
    "    population = []\n",
    "    \n",
    "    while (len(population) < population_size):\n",
    "        light_pattern = TrafficLightPattern(genotype_size)\n",
    "        if(pattern_verifier(light_pattern, population)):\n",
    "            population.append(light_pattern)\n",
    "            \n",
    "    return population\n"
   ]
  },
  {
   "cell_type": "code",
   "execution_count": 90,
   "metadata": {},
   "outputs": [],
   "source": [
    "def crossover(pattern_1, pattern_2):\n",
    "    \n",
    "    genotype_1 = np.copy(pattern_1.get_genotype())\n",
    "    genotype_2 = np.copy(pattern_2.get_genotype())\n",
    "\n",
    "    new_pattern = TrafficLightPattern(pattern_1.size)\n",
    "    \n",
    "    new_genotype = []\n",
    "    \n",
    "    for i in range(4):\n",
    "        time = genotype_1[:7] if random.randint(1,100) > 50 else genotype_2[:7] \n",
    "        \n",
    "        new_genotype = np.concatenate((new_genotype, time)).astype(int)\n",
    "        for j in range(7,47,2):\n",
    "            new_genotype = np.concatenate((new_genotype, genotype_1[j:j+2] if random.randint(1,100) > 50 else genotype_2[j:j+2])).astype(int)\n",
    "\n",
    "        genotype_1 = genotype_1[47:]\n",
    "        genotype_2 = genotype_2[47:]\n",
    "        \n",
    "    new_pattern.set_genotype(new_genotype)\n",
    "    return new_pattern"
   ]
  },
  {
   "cell_type": "code",
   "execution_count": 91,
   "metadata": {
    "scrolled": true
   },
   "outputs": [],
   "source": [
    "def mutation(pattern):\n",
    "\n",
    "    new_pattern = TrafficLightPattern(pattern.size)\n",
    "    new_genotype = np.copy(pattern.get_genotype())\n",
    "    \n",
    "    how_much = random.randint(1,pattern.size)\n",
    "    for i in range(how_much):\n",
    "        index = random.choice(range(0,pattern.size))\n",
    "        new_genotype[index] = not new_genotype[index] \n",
    "    new_pattern.set_genotype(new_genotype)\n",
    "    return new_pattern"
   ]
  },
  {
   "cell_type": "code",
   "execution_count": 92,
   "metadata": {},
   "outputs": [],
   "source": [
    "def select_candidates(population, size):\n",
    "    population.sort(key = lambda x: x.get_waiting_time(), reverse=False)\n",
    "    return population[0:size]"
   ]
  },
  {
   "cell_type": "code",
   "execution_count": 93,
   "metadata": {},
   "outputs": [],
   "source": [
    "def next_generation(population, size, mutation_percentage):\n",
    "    new_population = population\n",
    "    while(len(new_population)<size):\n",
    "        if (random.randint (1,100) > mutation_percentage):\n",
    "            # do crossover \n",
    "            pattern1 = random.choice(new_population)\n",
    "            pattern2 = random.choice(new_population)\n",
    "            new_pattern = crossover(pattern1, pattern2)\n",
    "            if(pattern_verifier(new_pattern,new_population)):\n",
    "                new_population.append(new_pattern)\n",
    "        \n",
    "        else:\n",
    "            # do mutation\n",
    "            pattern = random.choice(new_population)\n",
    "            new_pattern = mutation(pattern)\n",
    "            if(pattern_verifier(new_pattern,new_population)):\n",
    "                new_population.append(new_pattern)\n",
    "            \n",
    "    return new_population"
   ]
  },
  {
   "cell_type": "code",
   "execution_count": 94,
   "metadata": {},
   "outputs": [
    {
     "name": "stdout",
     "output_type": "stream",
     "text": [
      "5\n",
      "6\n",
      "6\n",
      "7\n",
      "8\n",
      "9\n",
      " Retrying in 1 seconds\n",
      " Retrying in 1 seconds\n",
      " Retrying in 1 seconds\n",
      " Retrying in 1 seconds\n",
      " Retrying in 1 seconds\n",
      " Retrying in 1 seconds\n",
      " Retrying in 1 seconds\n",
      " Retrying in 1 seconds\n",
      " Retrying in 1 seconds\n",
      " Retrying in 1 seconds\n",
      "Generation  0  finished\n",
      "5\n",
      "6\n",
      "7\n",
      "8\n",
      "8\n",
      "8\n",
      "8\n",
      "9\n",
      " Retrying in 1 seconds\n",
      " Retrying in 1 seconds\n",
      " Retrying in 1 seconds\n",
      " Retrying in 1 seconds\n",
      " Retrying in 1 seconds\n",
      " Retrying in 1 seconds\n",
      " Retrying in 1 seconds\n",
      " Retrying in 1 seconds\n",
      " Retrying in 1 seconds\n",
      " Retrying in 1 seconds\n",
      "Generation  1  finished\n",
      "5\n",
      "6\n",
      "7\n",
      "8\n",
      "9\n",
      "9\n",
      " Retrying in 1 seconds\n",
      " Retrying in 1 seconds\n",
      " Retrying in 1 seconds\n",
      " Retrying in 1 seconds\n",
      " Retrying in 1 seconds\n",
      " Retrying in 1 seconds\n",
      " Retrying in 1 seconds\n",
      " Retrying in 1 seconds\n",
      " Retrying in 1 seconds\n",
      " Retrying in 1 seconds\n",
      "Generation  2  finished\n",
      "5\n",
      "6\n",
      "7\n",
      "8\n",
      "9\n",
      " Retrying in 1 seconds\n",
      " Retrying in 1 seconds\n",
      " Retrying in 1 seconds\n",
      " Retrying in 1 seconds\n",
      " Retrying in 1 seconds\n",
      " Retrying in 1 seconds\n",
      " Retrying in 1 seconds\n",
      " Retrying in 1 seconds\n",
      " Retrying in 1 seconds\n",
      " Retrying in 1 seconds\n",
      "Generation  3  finished\n",
      "5\n",
      "5\n",
      "6\n",
      "7\n",
      "8\n",
      "9\n",
      " Retrying in 1 seconds\n",
      " Retrying in 1 seconds\n",
      " Retrying in 1 seconds\n",
      " Retrying in 1 seconds\n",
      " Retrying in 1 seconds\n",
      " Retrying in 1 seconds\n",
      " Retrying in 1 seconds\n",
      " Retrying in 1 seconds\n",
      " Retrying in 1 seconds\n",
      " Retrying in 1 seconds\n",
      "Generation  4  finished\n",
      "Best pattern is,  [62, 'ggyrrgyygrgrGrygyygy', 91, 'gggGGyggygGGyGGyyyGg', 107, 'yygGGGygGGGGyrgGgrrg', 89, 'rygrgrggrggGGryGGgGg']\n"
     ]
    }
   ],
   "source": [
    "def controller():\n",
    "    genotype_size = 188\n",
    "    population = create_new_population(POPULAION_SIZE,genotype_size)\n",
    "    \n",
    "    for i in range(NO_OF_GENERATIONS):\n",
    "        next_gen = next_generation(population, INTERMEDIATE_SIZE, MUTATION_PERCENTAGE)\n",
    "        evaluate_population(next_gen)\n",
    "        population = select_candidates(next_gen,POPULAION_SIZE)\n",
    "        print(\"Generation \",i,\" finished\")\n",
    "    print (\"Best pattern is, \",population[0].get_phenotype())\n",
    "            \n",
    "controller()"
   ]
  },
  {
   "cell_type": "code",
   "execution_count": 95,
   "metadata": {
    "scrolled": true
   },
   "outputs": [
    {
     "data": {
      "image/png": "[encoded data removed]",
      "text/plain": [
       "<Figure size 432x288 with 1 Axes>"
      ]
     },
     "metadata": {
      "needs_background": "light"
     },
     "output_type": "display_data"
    },
    {
     "name": "stderr",
     "output_type": "stream",
     "text": [
      "No handles with labels found to put in legend.\n"
     ]
    },
    {
     "data": {
      "image/png": "[encoded data removed]",
      "text/plain": [
       "<Figure size 432x288 with 1 Axes>"
      ]
     },
     "metadata": {
      "needs_background": "light"
     },
     "output_type": "display_data"
    },
    {
     "data": {
      "image/png": "[encoded data removed]",
      "text/plain": [
       "<Figure size 432x288 with 1 Axes>"
      ]
     },
     "metadata": {
      "needs_background": "light"
     },
     "output_type": "display_data"
    }
   ],
   "source": [
    "from statistics import mean, stdev\n",
    "import matplotlib.pyplot as plt\n",
    "\n",
    "'''Waiting time data'''\n",
    "\n",
    "elite_fitnesses = []\n",
    "mean_fitnesses = []\n",
    "stdev_fitnesses = []\n",
    "\n",
    "for i in waiting_times_data:\n",
    "    elite_fitnesses.append(min(i))\n",
    "    mean_fitnesses.append(mean(i))\n",
    "    stdev_fitnesses.append(stdev(i))\n",
    "\n",
    "\n",
    "plt.plot(elite_fitnesses,label='Elite Fitnesses')\n",
    "plt.plot(mean_fitnesses,label='Mean Fitnesses')\n",
    "# plt.plot(stdev_fitnesses,label='Standard Deviation')\n",
    "\n",
    "\n",
    "plt.xlabel('Generation')\n",
    "plt.ylabel('Waiting Time')\n",
    "plt.legend()\n",
    "plt.show()\n",
    "\n",
    "'''Accident data'''\n",
    "\n",
    "max_accidents = []\n",
    "mean_accidents = []\n",
    "\n",
    "for i in accidents_data:\n",
    "    max_accidents.append(max(i))\n",
    "    mean_accidents.append(mean(i))\n",
    "    \n",
    "plt.figure()\n",
    "\n",
    "plt.plot(max_accidents)\n",
    "plt.plot(mean_accidents)\n",
    "\n",
    "plt.xlabel('Generation')\n",
    "plt.ylabel('Accidents')\n",
    "plt.legend()\n",
    "plt.show()\n",
    "\n",
    "'''Elite Graph'''\n",
    "\n",
    "plt.figure()\n",
    "plt.plot(elite_fitnesses,label='Elite Fitnesses')\n",
    "\n",
    "plt.xlabel('Generation')\n",
    "plt.ylabel('Waiting Time')\n",
    "plt.legend()\n",
    "plt.show()"
   ]
  }
 ],
 "metadata": {
  "kernelspec": {
   "display_name": "Python 3",
   "language": "python",
   "name": "python3"
  },
  "language_info": {
   "codemirror_mode": {
    "name": "ipython",
    "version": 3
   },
   "file_extension": ".py",
   "mimetype": "text/x-python",
   "name": "python",
   "nbconvert_exporter": "python",
   "pygments_lexer": "ipython3",
   "version": "3.6.9"
  }
 },
 "nbformat": 4,
 "nbformat_minor": 4
}
