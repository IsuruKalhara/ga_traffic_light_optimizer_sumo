{
 "cells": [
  {
   "cell_type": "code",
   "execution_count": 74,
   "metadata": {},
   "outputs": [],
   "source": [
    "from sumolib import checkBinary\n",
    "import xml.etree.ElementTree as ET\n",
    "import traci\n",
    "import sys\n",
    "import random\n",
    "import numpy as np\n"
   ]
  },
  {
   "cell_type": "code",
   "execution_count": 75,
   "metadata": {},
   "outputs": [],
   "source": [
    "POPULAION_SIZE = 100\n",
    "INTERMEDIATE_SIZE = 200\n",
    "MUTATION_PERCENTAGE = 10\n",
    "NO_OF_GENERATIONS = 1000"
   ]
  },
  {
   "cell_type": "code",
   "execution_count": 103,
   "metadata": {},
   "outputs": [],
   "source": [
    "class TrafficLightPattern:\n",
    "    \n",
    "    def __init__(self, genotype_size):\n",
    "        self.size = genotype_size\n",
    "        self.genotype = np.random.randint(2, size = genotype_size)\n",
    "        self.phenotype = 0\n",
    "        self.waiting_time = 0\n",
    "      \n",
    "    def set_genotype(self, genotype):\n",
    "        if len(genotype) == self.size:\n",
    "            self.genotype = genotype\n",
    "        else:\n",
    "            print(\"Size error for the new genotype\")\n",
    "    \n",
    "    def get_genotype(self):\n",
    "        return self.genotype\n",
    "    \n",
    "    def set_phenotype(self, phenotype):\n",
    "        self.phenotype = phenotype\n",
    "    \n",
    "    def get_phenotype(self):\n",
    "        return self.phenotype\n",
    "    \n",
    "    def set_waiting_time(self, waiting_time):\n",
    "        self.waiting_time = waiting_time\n",
    "    \n",
    "    def get_waiting_time(self):\n",
    "        return self.waiting_time\n",
    "    "
   ]
  },
  {
   "cell_type": "code",
   "execution_count": 86,
   "metadata": {},
   "outputs": [
    {
     "name": "stdout",
     "output_type": "stream",
     "text": [
      "Size error for the new genotype\n"
     ]
    }
   ],
   "source": [
    "#test_pattern = TrafficLightPattern(188)\n",
    "#test_pattern.set_phenotype(phenotype(test_pattern.get_genotype()))\n",
    "#print(test_pattern.get_phenotype())\n",
    "#test_pattern.set_genotype(np.random.randint(2, size = 189))"
   ]
  },
  {
   "cell_type": "code",
   "execution_count": 2,
   "metadata": {},
   "outputs": [],
   "source": [
    "def simulate(program):\n",
    "    '''return the waiting time after running the simulation'''\n",
    "    \n",
    "    traci.start([checkBinary(program), \"-c\", \"sumo/light.sumocfg\", \"--tripinfo-output\", \"sumo/tripinfo.xml\"])\n",
    "    \n",
    "    while traci.simulation.getMinExpectedNumber() > 0:\n",
    "        traci.simulationStep()\n",
    "        \n",
    "    traci.close()\n",
    "    sys.stdout.flush()\n",
    "    \n",
    "    xmldoc = ET.parse('sumo/tripinfo.xml')\n",
    "\n",
    "    tripinfos = xmldoc.findall('tripinfo')\n",
    "\n",
    "    waitingTime = 0\n",
    "    for tripinfo in tripinfos:\n",
    "        waitingTime += float(tripinfo.get('waitingTime'))\n",
    "        \n",
    "    return waitingTime"
   ]
  },
  {
   "cell_type": "code",
   "execution_count": 81,
   "metadata": {},
   "outputs": [],
   "source": [
    "def phenotype(genotype):\n",
    "    '''return phenotype when gives a genotype'''\n",
    "    phenotype = []\n",
    "    m = ['G', 'g', 'y', 'r']\n",
    "    \n",
    "    for j in range(4):\n",
    "        phenotype.append(int(''.join(map(str,genotype[:7])),2)) \n",
    "\n",
    "        state = genotype[7:47]\n",
    "        s = \"\"\n",
    "        for i in range(0, 20):\n",
    "            s += m[int(str(state[2*i])+str(state[2*i+1]),2)]\n",
    "        phenotype.append(s)\n",
    "\n",
    "        genotype = genotype[47:]\n",
    "    \n",
    "    return phenotype"
   ]
  },
  {
   "cell_type": "code",
   "execution_count": 3,
   "metadata": {},
   "outputs": [],
   "source": [
    "def evaluate(phenotype):\n",
    "    '''run the simulation after setting the new phenotype then return the waitingTime'''\n",
    "    \n",
    "    network = ET.parse('sumo/light.net.xml')\n",
    "    signal = network.find('tlLogic') \n",
    "    \n",
    "    for phase in signal.iter('phase'):\n",
    "        \n",
    "        duration = str(phenotype[2*i])\n",
    "        if duration == \"0\":\n",
    "             return 0\n",
    "        phase.set(\"duration\", duration)\n",
    "            \n",
    "        state = phenotype[2*i+1]\n",
    "        phase.set(\"state\", state)\n",
    "\n",
    "    network.write(\"sumo/light.net.xml\")\n",
    "    \n",
    "    waitingTime = simulate('sumo')\n",
    "\n",
    "    return waitingTime"
   ]
  },
  {
   "cell_type": "code",
   "execution_count": 87,
   "metadata": {},
   "outputs": [],
   "source": [
    "def create_new_population(population_size, genotype_size):\n",
    "    \n",
    "    population = []\n",
    "    \n",
    "    while (len(population) < population_size):\n",
    "        light_pattern = TrafficLightPattern(genotype_size)\n",
    "        if(not already_in(light_pattern, population)):\n",
    "            light_pattern.set_phenotype(phenotype(light_pattern.get_genotype()))\n",
    "            population.append(light_pattern)\n",
    "            \n",
    "    return population\n"
   ]
  },
  {
   "cell_type": "code",
   "execution_count": 134,
   "metadata": {},
   "outputs": [
    {
     "name": "stdout",
     "output_type": "stream",
     "text": [
      "[0 0 0 1 1 1 0 0 1 0 1 0 1 1 0 1 1 0 1 0 1 0 1 0 1 1 0 1 1 0 0 1 0 1 0 1 1\n",
      " 1 1 0 0 1 1 1 1 0 0 0 0 1 1 0 1 0 0 1 1 1 0 1 1 0 1 1 1 0 0 1 0 1 0 0 1 0\n",
      " 0 0 0 0 1 0 1 0 1 0 1 1 0 0 0 1 0 0 0 1 1 1 1 0 1 1 1 1 1 0 0 1 1 0 1 0 1\n",
      " 0 0 0 1 1 1 0 1 1 0 1 0 0 0 1 1 0 0 0 0 1 0 0 1 1 0 0 1 0 0 1 1 1 0 0 0 0\n",
      " 0 0 1 1 0 0 1 0 1 1 0 0 1 0 1 0 1 1 0 1 0 0 1 1 0 0 1 0 0 1 0 1 0 1 0 0 1\n",
      " 0 0 1]\n",
      "[1 1 1 1 0 0 0 1 0 0 1 0 1 0 0 0 0 1 1 0 1 1 1 1 0 0 0 0 1 1 1 0 0 1 1 0 1\n",
      " 1 0 0 1 1 1 0 1 1 1 1 0 1 1 0 0 1 1 0 1 1 0 1 1 1 1 1 1 1 1 1 1 1 1 0 1 0\n",
      " 1 1 1 1 1 0 1 1 1 0 0 1 0 1 1 1 1 1 0 1 1 1 0 1 0 1 1 1 1 1 0 1 0 1 1 1 0\n",
      " 1 1 0 1 0 0 0 1 0 0 0 0 1 0 0 0 0 1 0 0 1 1 1 1 1 1 0 1 1 0 1 0 0 0 1 1 1\n",
      " 0 0 0 1 1 1 0 0 1 1 0 0 0 1 1 1 0 0 0 1 1 0 1 0 0 1 1 1 1 0 0 0 1 1 0 0 1\n",
      " 0 1 0]\n",
      "[1 0 0 1 1 0 1 0 0 1 0 1 1 1 0 0 1 0 1 1 0 0 0 1 1 0 1 0 0 1 0 0 1 0 0 1 0\n",
      " 0 1 0 0 1 1 1 0 0 0 1 1 1 1 0 0 1 1 1 1 1 1 0 1 1 1 0 1 1 1 1 1 0 0 1 1 0\n",
      " 1 1 1 0 1 1 1 0 1 1 0 1 0 1 1 0 1 1 1 1 1 0 0 0 1 1 0 1 0 1 1 1 1 1 1 1 0\n",
      " 1 0 0 1 1 1 1 0 0 0 1 1 1 0 1 0 0 0 0 1 0 1 1 1 1 1 1 1 0 1 0 1 1 0 0 1 1\n",
      " 1 0 1 1 1 0 0 1 1 1 0 1 1 0 1 0 1 0 0 0 1 1 0 0 0 1 1 1 1 1 0 0 0 1 1 1 0\n",
      " 1 1 0]\n",
      "[1 1 1 1 0 0 0]\n",
      "[1 1 1 1 0 0 0 0 1 0 1 0 1 0 0 0 0 0 1 0 1 0 1 1 0 0 0 0 1 0 0 0 0 1 0 1 1\n",
      " 1 1 0 0 1 1 0 1 1 1 0 0 1 1 0 1 0]\n",
      "[1 1 1 1 0 0 0 0 1 0 1 0 1 0 0 0 0 0 1 0 1 0 1 1 0 0 0 0 1 0 0 0 0 1 0 1 1\n",
      " 1 1 0 0 1 1 0 1 1 1 0 0 1 1 0 1 0 1 0 1 1 0 1 1 1 1 1 1 1 0 1 1 1 0 0 1 0\n",
      " 0 0 0 0 1 0 1 1 1 0 1 1 0 1 0 1 1 1 0 1 1 1 0 1 0 1 1]\n",
      "[1 1 1 1 0 0 0 0 1 0 1 0 1 0 0 0 0 0 1 0 1 0 1 1 0 0 0 0 1 0 0 0 0 1 0 1 1\n",
      " 1 1 0 0 1 1 0 1 1 1 0 0 1 1 0 1 0 1 0 1 1 0 1 1 1 1 1 1 1 0 1 1 1 0 0 1 0\n",
      " 0 0 0 0 1 0 1 1 1 0 1 1 0 1 0 1 1 1 0 1 1 1 0 1 0 1 1 1 1 1 0 1 0 1 1 0 1\n",
      " 1 1 0 1 0 0 0 1 1 0 0 0 1 0 1 1 0 0 0 0 1 1 0 1 1 1 0 1 1 0 1 1 1 0 0 0 0]\n",
      "[1 1 1 1 0 0 0 0 1 0 1 0 1 0 0 0 0 0 1 0 1 0 1 1 0 0 0 0 1 0 0 0 0 1 0 1 1\n",
      " 1 1 0 0 1 1 0 1 1 1 0 0 1 1 0 1 0 1 0 1 1 0 1 1 1 1 1 1 1 0 1 1 1 0 0 1 0\n",
      " 0 0 0 0 1 0 1 1 1 0 1 1 0 1 0 1 1 1 0 1 1 1 0 1 0 1 1 1 1 1 0 1 0 1 1 0 1\n",
      " 1 1 0 1 0 0 0 1 1 0 0 0 1 0 1 1 0 0 0 0 1 1 0 1 1 1 0 1 1 0 1 1 1 0 0 0 0\n",
      " 0 0 0 1 0 0 0 0 1 1 0 0 1 0 1 1 0 0 0 1 0 0 1 0 0 1 1 1 0 1 0 0 0 1 0 0 1\n",
      " 0 1 0]\n"
     ]
    }
   ],
   "source": [
    "pop = create_new_population(3,188)\n",
    "for i in pop:\n",
    "    print(i.get_genotype())\n",
    "answer = crossover(pop[0],pop[1])\n",
    "print(answer.get_genotype())\n",
    "\n",
    "#answer.set_phenotype(phenotype(answer.get_genotype()))\n",
    "#print(answer.get_phenotype())"
   ]
  },
  {
   "cell_type": "code",
   "execution_count": 133,
   "metadata": {},
   "outputs": [],
   "source": [
    "def crossover(pattern_1, pattern_2):\n",
    "    \n",
    "    genotype_1 = np.copy(pattern_1.get_genotype())\n",
    "    genotype_2 = np.copy(pattern_2.get_genotype())\n",
    "\n",
    "    new_pattern = TrafficLightPattern(pattern_1.size)\n",
    "    \n",
    "    new_genotype = []\n",
    "    \n",
    "    for i in range(4):\n",
    "        time = genotype_1[:7] if random.randint(1,100) > 50 else genotype_2[:7] \n",
    "        \n",
    "        new_genotype = np.concatenate((new_genotype, time)).astype(int)\n",
    "        for j in range(7,47,2):\n",
    "            new_genotype = np.concatenate((new_genotype, genotype_1[j:j+2] if random.randint(1,100) > 50 else genotype_2[j:j+2])).astype(int)\n",
    "\n",
    "        genotype_1 = genotype_1[47:]\n",
    "        genotype_2 = genotype_2[47:]\n",
    "        \n",
    "    new_pattern.set_genotype(new_genotype)\n",
    "    return new_pattern"
   ]
  },
  {
   "cell_type": "code",
   "execution_count": null,
   "metadata": {
    "scrolled": true
   },
   "outputs": [],
   "source": [
    "def mutation(pattern):\n",
    "\n",
    "    new_pattern = TrafficLightPattern(pattern.size)\n",
    "    new_genotype = np.copy(pattern.get_genotype())\n",
    "    \n",
    "    how_much = random.randint(1,pattern.size)\n",
    "    for i in range(how_much):\n",
    "        index = random.choice(range(0,pattern.size))\n",
    "        new_genotype = not new_genotype[index] \n",
    "    new_pattern.set_genotype(new_genotype)\n",
    "    return new_pattern"
   ]
  },
  {
   "cell_type": "code",
   "execution_count": 89,
   "metadata": {},
   "outputs": [],
   "source": [
    "def already_in(new_genotype, population):\n",
    "    return next((True for elem in population if np.array_equal(elem.get_genotype(), new_genotype.get_genotype())), False)"
   ]
  },
  {
   "cell_type": "code",
   "execution_count": 116,
   "metadata": {},
   "outputs": [
    {
     "name": "stdout",
     "output_type": "stream",
     "text": [
      "[0 1 1 1 0 0 1 1 1 0]\n",
      "[0 1 1 0 0 1 0 0 0 0]\n",
      "[0 1 1 1 0 0 1 1 1 0]\n",
      "[0 1 1 1 0 0 1 1 1 0]\n"
     ]
    },
    {
     "data": {
      "text/plain": [
       "True"
      ]
     },
     "execution_count": 116,
     "metadata": {},
     "output_type": "execute_result"
    }
   ],
   "source": [
    "# a = []\n",
    "# a.append(TrafficLightPattern(10))\n",
    "# a.append(TrafficLightPattern(10))\n",
    "# b = TrafficLightPattern(10)\n",
    "# print(b.get_genotype())\n",
    "# c = TrafficLightPattern(10)\n",
    "# print(c.get_genotype())\n",
    "# c.set_genotype(np.copy(b.get_genotype()))\n",
    "# a.append(b)\n",
    "\n",
    "# print(b.get_genotype())\n",
    "# print(c.get_genotype())\n",
    "\n",
    "# already_in(c,a)"
   ]
  },
  {
   "cell_type": "code",
   "execution_count": null,
   "metadata": {},
   "outputs": [],
   "source": [
    "def select_candidates(population, size):\n",
    "    population.sort(key = lambda x: x.get_waiting_time(), reverse=False)\n",
    "    return population[0:size]"
   ]
  },
  {
   "cell_type": "code",
   "execution_count": null,
   "metadata": {},
   "outputs": [],
   "source": [
    "def next_generation(population, size, mutation_percentage):\n",
    "    new_population = population\n",
    "    while(len(new_population)<size):\n",
    "        if (random.randint (1,100) > mutation_percentage):\n",
    "            # do crossover \n",
    "            pattern1 = random.choice(new_population)\n",
    "            pattern2 = random.choice(new_population)\n",
    "            new_pattern = crossover(pattern1, pattern2)\n",
    "            if(not already_in(new_pattern,new_population)):\n",
    "                new_pattern.set_phenotype(phenotype(new_pattern.get_genotype()))\n",
    "                new_population.append(new_img)\n",
    "        \n",
    "        else:\n",
    "            # do mutation\n",
    "            pattern = random.choice(new_population)\n",
    "            new_pattern = mutation(pattern,10)\n",
    "            if(not already_in(new_pattern,new_population)):\n",
    "                new_pattern.set_phenotype(phenotype(new_pattern.get_genotype()))\n",
    "                new_population.append(new_img)\n",
    "            \n",
    "    return new_population"
   ]
  },
  {
   "cell_type": "code",
   "execution_count": 10,
   "metadata": {},
   "outputs": [
    {
     "name": "stdout",
     "output_type": "stream",
     "text": [
      "[488.4000000000001, 308.9, 308.9, 223.7, 101.0, 101.0, 101.0, 101.0, 101.0, 101.0]\n",
      "[2029.3, 1020.32, 494.01, 429.375, 287.615, 162.915, 113.27, 101.0, 103.485, 110.9]\n",
      "[1702.0243226043633, 554.1894532605824, 207.80413830031597, 469.5283589607991, 122.30151384784116, 63.571040038518696, 37.766263140254516, 0.0, 11.113257848173953, 32.51865861155311]\n"
     ]
    },
    {
     "data": {
      "image/png": "[encoded data removed]",
      "text/plain": [
       "<Figure size 432x288 with 1 Axes>"
      ]
     },
     "metadata": {
      "needs_background": "light"
     },
     "output_type": "display_data"
    }
   ],
   "source": [
    "from statistics import mean, stdev\n",
    "import matplotlib.pyplot as plt\n",
    "import numpy as np\n",
    "\n",
    "generation_fitnesses = []\n",
    "elite_fitnesses = []\n",
    "mean_fitnesses = []\n",
    "stdev_fitnesses = []\n",
    "\n",
    "for i in range(ga.generations):\n",
    "    generation_fitnesses.append(fitnesses[ga.population_size*i:(ga.population_size)*(i+1)])\n",
    "\n",
    "for i in range(ga.generations):\n",
    "    elite_fitnesses.append(min(generation_fitnesses[i]))\n",
    "    mean_fitnesses.append(mean(generation_fitnesses[i]))\n",
    "    stdev_fitnesses.append(stdev(generation_fitnesses[i]))\n",
    "    \n",
    "print(elite_fitnesses)\n",
    "print(mean_fitnesses)\n",
    "print(stdev_fitnesses)\n",
    "\n",
    "\n",
    "plt.plot(fitnesses, label='Fitness')\n",
    "t = np.linspace(ga.population_size/2, (ga.population_size/2)*(2*ga.generations-1), ga.generations)\n",
    "plt.plot(t, elite_fitnesses,'bs', label='Elite Fitness')\n",
    "plt.plot(t, mean_fitnesses, 'ro', label='Mean Fitness')\n",
    "plt.plot(t, stdev_fitnesses, 'g*', label='Standard Deviation')\n",
    "\n",
    "plt.xlabel('Generation')\n",
    "plt.ylabel('Waiting Time')\n",
    "plt.legend()\n",
    "plt.show()"
   ]
  },
  {
   "cell_type": "code",
   "execution_count": 11,
   "metadata": {},
   "outputs": [
    {
     "data": {
      "text/plain": [
       "101.0"
      ]
     },
     "execution_count": 11,
     "metadata": {},
     "output_type": "execute_result"
    }
   ],
   "source": [
    "# Best individual, after 10 generations each with a population of 20 individuals\n",
    "display(best)"
   ]
  },
  {
   "cell_type": "code",
   "execution_count": 12,
   "metadata": {},
   "outputs": [
    {
     "data": {
      "text/plain": [
       "4.0"
      ]
     },
     "execution_count": 12,
     "metadata": {},
     "output_type": "execute_result"
    }
   ],
   "source": [
    "# Best so far, after 30 generations each with a population of 50 individuals\n",
    "best_so_far = [43, 'GGGrGgrGrgGGyyGGgGyy', 11, 'GgyGGyGyrgggrGGGGGrr', 38, 'GgGGgGrgyyGGgyygGryr', 78, 'yrrGgryyrrgGyGrGyggG']\n",
    "display(best_so_far)"
   ]
  },
  {
   "cell_type": "code",
   "execution_count": 73,
   "metadata": {},
   "outputs": [
    {
     "name": "stdout",
     "output_type": "stream",
     "text": [
      "[0 0 1 0 1 0 0 1 1 0 1 1 1 0 1 0 1 0 0 1]\n",
      "[1 0 1 0 1 0 0 1 1 0 1 1 1 0 1 0 1 0 0 1]\n"
     ]
    }
   ],
   "source": [
    "a = np.array([0,0,1,0,1,0,0,1,1,0,1,1,1,0,1,0,1,0,0,1])\n",
    "print(a)\n",
    "a[0] = not a[0]\n",
    "print(a)"
   ]
  },
  {
   "cell_type": "code",
   "execution_count": 59,
   "metadata": {},
   "outputs": [
    {
     "data": {
      "text/plain": [
       "65"
      ]
     },
     "execution_count": 59,
     "metadata": {},
     "output_type": "execute_result"
    }
   ],
   "source": [
    "\n",
    "random.choice(range(1,100))"
   ]
  }
 ],
 "metadata": {
  "kernelspec": {
   "display_name": "Python 3",
   "language": "python",
   "name": "python3"
  },
  "language_info": {
   "codemirror_mode": {
    "name": "ipython",
    "version": 3
   },
   "file_extension": ".py",
   "mimetype": "text/x-python",
   "name": "python",
   "nbconvert_exporter": "python",
   "pygments_lexer": "ipython3",
   "version": "3.6.9"
  }
 },
 "nbformat": 4,
 "nbformat_minor": 4
}
